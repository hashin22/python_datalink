{
 "cells": [
  {
   "cell_type": "code",
   "execution_count": null,
   "metadata": {},
   "outputs": [],
   "source": [
    "import pandas as pd\n",
    "import numpy as np"
   ]
  },
  {
   "cell_type": "code",
   "execution_count": null,
   "metadata": {},
   "outputs": [],
   "source": [
    "df_stt = pd.read_excel('data/고객입력정보_변환.xlsx', dtype={'세션아이디':str})\n",
    "df_call = pd.read_excel('data/전체상담내역.xlsx', dtype={'세션 아이디':str})"
   ]
  },
  {
   "cell_type": "code",
   "execution_count": null,
   "metadata": {},
   "outputs": [],
   "source": [
    "df_stt.head()"
   ]
  },
  {
   "cell_type": "code",
   "execution_count": null,
   "metadata": {},
   "outputs": [],
   "source": [
    "df_call.head()"
   ]
  },
  {
   "cell_type": "code",
   "execution_count": null,
   "metadata": {},
   "outputs": [],
   "source": [
    "df_stt.rename(columns={\"세션아이디\":\"session_id\", \"전화번호\":\"phone_number\"}, inplace=True)\n",
    "df_call.rename(columns={\"세션 아이디\":\"session_id\", \"전화번호\":\"phone_number\"}, inplace=True)"
   ]
  },
  {
   "cell_type": "code",
   "execution_count": null,
   "metadata": {},
   "outputs": [],
   "source": [
    "# df_call.sort_values(by='시작시간', ascending=False, inplace=True)\n",
    "# df_stt['시작시간'] = df_stt.apply(lambda x:df_call.loc[(df_call['전화번호']==x['전화번호']) & (df_call['시작시간']<=x['시간']), '시작시간'].iloc[0], axis=1)"
   ]
  },
  {
   "cell_type": "code",
   "execution_count": null,
   "metadata": {},
   "outputs": [],
   "source": [
    "df = df_stt.merge(df_call, how='left', left_on=['session_id', 'phone_number', '날짜'], right_on=['session_id', 'phone_number', '날짜'])\n",
    "df.head()"
   ]
  },
  {
   "cell_type": "code",
   "execution_count": null,
   "metadata": {},
   "outputs": [],
   "source": [
    "df_stt.shape"
   ]
  },
  {
   "cell_type": "code",
   "execution_count": null,
   "metadata": {},
   "outputs": [],
   "source": [
    "df.drop_duplicates(inplace=True)\n",
    "df.shape"
   ]
  },
  {
   "cell_type": "code",
   "execution_count": null,
   "metadata": {},
   "outputs": [],
   "source": [
    "# # 콜 넘버링하기\n",
    "# df.sort_values(['시간', 'session_id'], inplace=True)\n",
    "# idarr = df.session_id.unique()\n",
    "# df[\"No\"] = df.session_id.apply(lambda x:int(np.where(idarr==x)[0])+1)\n",
    "\n",
    "# df"
   ]
  },
  {
   "cell_type": "code",
   "execution_count": null,
   "metadata": {},
   "outputs": [],
   "source": [
    "# # 발화턴 추가\n",
    "# df.sort_values(['날짜', '시간', 'session_id'], inplace=True)\n",
    "\n",
    "# turn = []\n",
    "# sid_b = 0\n",
    "\n",
    "# for sid in df.session_id:\n",
    "#     if sid == sid_b:\n",
    "#         n += 1\n",
    "#     else:\n",
    "#         n = 1\n",
    "#     turn.append(n)\n",
    "#     sid_b = sid\n",
    "\n",
    "# df['발화턴'] = turn\n",
    "# df"
   ]
  },
  {
   "cell_type": "code",
   "execution_count": null,
   "metadata": {},
   "outputs": [],
   "source": [
    "df = df[['session_id', 'phone_number', '날짜', '시간', '마지막 대화', '상담시간', '통화결과', '대화명', 'STT']]\n",
    "df"
   ]
  },
  {
   "cell_type": "code",
   "execution_count": null,
   "metadata": {},
   "outputs": [],
   "source": [
    "air_ids = df.loc[df['대화명'].str.contains(\"에어컨\"), \"session_id\"].unique()\n",
    "df.loc[df[\"session_id\"].isin(air_ids), \"제품\"] = \"에어컨\"\n",
    "\n",
    "ref_ids = df.loc[df['대화명'].str.contains(\"냉장고\"), \"session_id\"].unique()\n",
    "df.loc[df[\"session_id\"].isin(ref_ids), \"제품\"] = \"냉장고\""
   ]
  },
  {
   "cell_type": "code",
   "execution_count": null,
   "metadata": {},
   "outputs": [],
   "source": [
    "df.loc[~df['제품'].isna(), '마지막 대화'].unique()"
   ]
  },
  {
   "cell_type": "code",
   "execution_count": null,
   "metadata": {},
   "outputs": [],
   "source": [
    "lasts = ['R - 진행', '질의 1', '질의 2', '증상 확인', '세부 제품 확인 (김치냉장고)', '세부 제품 확인 (냉장고)', '세부 제품 확인 (에어컨)']\n",
    "df.loc[(~df['제품'].isna()) & (df['마지막 대화'].isin(lasts)), \"분석대상\"] = \"Y\""
   ]
  },
  {
   "cell_type": "code",
   "execution_count": null,
   "metadata": {},
   "outputs": [],
   "source": [
    "df.fillna(\"\", inplace=True)"
   ]
  },
  {
   "cell_type": "code",
   "execution_count": null,
   "metadata": {},
   "outputs": [],
   "source": [
    "df"
   ]
  },
  {
   "cell_type": "code",
   "execution_count": null,
   "metadata": {},
   "outputs": [],
   "source": [
    "yymmdd = lambda x:x[2:4]+x[5:7]+x[8:10]\n",
    "df.to_excel(f\"result/voicebot_stt_{yymmdd(df['날짜'].min())}~{yymmdd(df['날짜'].max())}.xlsx\", index=False)"
   ]
  },
  {
   "cell_type": "code",
   "execution_count": null,
   "metadata": {},
   "outputs": [],
   "source": []
  }
 ],
 "metadata": {
  "kernelspec": {
   "display_name": "sql-venv",
   "language": "python",
   "name": "python3"
  },
  "language_info": {
   "codemirror_mode": {
    "name": "ipython",
    "version": 3
   },
   "file_extension": ".py",
   "mimetype": "text/x-python",
   "name": "python",
   "nbconvert_exporter": "python",
   "pygments_lexer": "ipython3",
   "version": "3.11.9"
  }
 },
 "nbformat": 4,
 "nbformat_minor": 2
}
